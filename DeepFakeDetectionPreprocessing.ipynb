{
  "nbformat": 4,
  "nbformat_minor": 0,
  "metadata": {
    "colab": {
      "provenance": [],
      "authorship_tag": "ABX9TyM6k/spYfi0fldF0bpwne5I",
      "include_colab_link": true
    },
    "kernelspec": {
      "name": "python3",
      "display_name": "Python 3"
    },
    "language_info": {
      "name": "python"
    }
  },
  "cells": [
    {
      "cell_type": "markdown",
      "metadata": {
        "id": "view-in-github",
        "colab_type": "text"
      },
      "source": [
        "<a href=\"https://colab.research.google.com/github/AnuBaluguri/Deepfake-Detection-/blob/main/DeepFakeDetectionPreprocessing.ipynb\" target=\"_parent\"><img src=\"https://colab.research.google.com/assets/colab-badge.svg\" alt=\"Open In Colab\"/></a>"
      ]
    },
    {
      "cell_type": "code",
      "execution_count": null,
      "metadata": {
        "id": "MISr_rHLQ8uB"
      },
      "outputs": [],
      "source": [
        "import os\n",
        "import cv2\n",
        "import numpy as np\n",
        "from google.colab import drive"
      ]
    },
    {
      "cell_type": "code",
      "source": [
        "from skimage import filters, color, io\n",
        "from keras.preprocessing import image"
      ],
      "metadata": {
        "id": "DvNfcLNPpvXg"
      },
      "execution_count": null,
      "outputs": []
    },
    {
      "cell_type": "code",
      "source": [
        "# Mount Google Drive\n",
        "drive.mount('/content/drive')\n"
      ],
      "metadata": {
        "colab": {
          "base_uri": "https://localhost:8080/"
        },
        "id": "NTRRT-RMRkp7",
        "outputId": "a26b5b85-c278-4355-b11e-7205ffa0c7a5"
      },
      "execution_count": null,
      "outputs": [
        {
          "output_type": "stream",
          "name": "stdout",
          "text": [
            "Mounted at /content/drive\n"
          ]
        }
      ]
    },
    {
      "cell_type": "code",
      "source": [
        "# Define the path to the dataset folder\n",
        "dataset_path = '/content/drive/MyDrive/Sample Data'"
      ],
      "metadata": {
        "id": "pY9_46JLRn0b"
      },
      "execution_count": null,
      "outputs": []
    },
    {
      "cell_type": "code",
      "source": [
        "# Define target image size for CNN input\n",
        "target_size = (224, 224)  # Adjust size as needed"
      ],
      "metadata": {
        "id": "yQlyW8qkgvBV"
      },
      "execution_count": null,
      "outputs": []
    },
    {
      "cell_type": "code",
      "source": [
        "import os\n",
        "import numpy as np\n",
        "from skimage import io, color, filters\n",
        "import cv2\n",
        "\n",
        "def preprocess_image(image_path, output_path):\n",
        "    try:\n",
        "       img = image.load_img(image_path, target_size=(224, 224))\n",
        "       img_array = image.img_to_array(img)\n",
        "\n",
        "       #Normalize pixel value to range [0,1]\n",
        "       img_array /= 255.0\n",
        "       # Convert to grayscale\n",
        "       img_array_gray = color.rgb2gray(img_array)\n",
        "\n",
        "       # Apply edge detection using Sobel filter\n",
        "       img_edges = filters.sobel(img_array_gray)\n",
        "\n",
        "       # Remove noise using Gaussian blur\n",
        "       img_edges = filters.gaussian(img_edges, sigma=1)\n",
        "\n",
        "       # Combine edge-detected image with original image\n",
        "       img_combined = np.dstack((img_array, img_edges))\n",
        "\n",
        "       # Save preprocessed image\n",
        "       image.save_img(output_path, img_combined)\n",
        "    except Exception as e:\n",
        "      print(f\"Error processing {image_path}: {str(e)}\")\n"
      ],
      "metadata": {
        "id": "yf80-5tscsdY"
      },
      "execution_count": null,
      "outputs": []
    },
    {
      "cell_type": "code",
      "source": [
        "# Function to preprocess images in a folder and store in Deepfake or Original folder\n",
        "def preprocess_and_store(folder_path, output_folder):\n",
        "    # Navigate to the 'Images' folder\n",
        "    images_folder = os.path.join(folder_path, 'images')\n",
        "    if not os.path.exists(images_folder) or not os.path.isdir(images_folder):\n",
        "        print(f\"Error: Images folder '{images_folder}' not found\")\n",
        "        return\n",
        "\n",
        "    # Loop through each subfolder in the 'Images' folder\n",
        "    for subfolder_name in os.listdir(images_folder):\n",
        "        subfolder_path = os.path.join(images_folder, subfolder_name)\n",
        "        if os.path.isdir(subfolder_path):\n",
        "            # Create the corresponding subfolder in the output folder\n",
        "            output_subfolder = os.path.join(output_folder, subfolder_name)\n",
        "            os.makedirs(output_subfolder, exist_ok=True)\n",
        "            # Loop through each image in the subfolder\n",
        "            for filename in os.listdir(subfolder_path):\n",
        "                if filename.endswith('.jpg') or filename.endswith('.png'):\n",
        "                    # Preprocess the image\n",
        "                    input_path = os.path.join(subfolder_path, filename)\n",
        "                    output_path = os.path.join(output_subfolder, filename)\n",
        "                    print(f'Preprocessing: {input_path}')  # Debug print to check the input path\n",
        "                    if not os.path.exists(input_path):\n",
        "                        print(f\"Error: Input image '{input_path}' does not exist\")  # Check if the input image exists\n",
        "                        continue\n",
        "                    preprocess_image(input_path, output_path)\n",
        "                    print(f'Preprocessed: {output_path}')\n"
      ],
      "metadata": {
        "id": "LQg2T_Dec10r"
      },
      "execution_count": null,
      "outputs": []
    },
    {
      "cell_type": "code",
      "source": [
        "# Create the 'Preprocessed1' folder if it doesn't exist\n",
        "preprocessed_path = '/content/drive/MyDrive/Sample Data/Preprocessed2'\n",
        "os.makedirs(preprocessed_path, exist_ok=True)\n",
        "print(f'Created Preprocessed1 folder: {preprocessed_path}')"
      ],
      "metadata": {
        "colab": {
          "base_uri": "https://localhost:8080/"
        },
        "id": "fw0TJVegc7b1",
        "outputId": "e4a699c2-3919-414a-bba5-609c33e7538a"
      },
      "execution_count": null,
      "outputs": [
        {
          "output_type": "stream",
          "name": "stdout",
          "text": [
            "Created Preprocessed1 folder: /content/drive/MyDrive/Sample Data/Preprocessed2\n"
          ]
        }
      ]
    },
    {
      "cell_type": "code",
      "source": [
        "# Preprocess images in Deepfake folder\n",
        "deepfake_folder = '/content/drive/MyDrive/Sample Data/Deepfakes'\n",
        "deepfake_preprocessed = os.path.join(preprocessed_path, 'Deepfakes')\n",
        "preprocess_and_store(deepfake_folder, deepfake_preprocessed)"
      ],
      "metadata": {
        "id": "OsuSt0QBdGaK"
      },
      "execution_count": null,
      "outputs": []
    },
    {
      "cell_type": "code",
      "source": [
        "# Preprocess images in Deepfake folder\n",
        "original_folder = '/content/drive/MyDrive/Sample Data/original'\n",
        "original_preprocessed = os.path.join(preprocessed_path, 'original')\n",
        "preprocess_and_store(original_folder, original_preprocessed)"
      ],
      "metadata": {
        "id": "7wK1-X0AxjcG"
      },
      "execution_count": null,
      "outputs": []
    }
  ]
}